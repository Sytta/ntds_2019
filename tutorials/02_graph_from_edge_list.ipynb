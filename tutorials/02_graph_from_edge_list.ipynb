{
 "cells": [
  {
   "cell_type": "markdown",
   "metadata": {},
   "source": [
    "# [NTDS'19] tutorial 2: build a graph from an edge list\n",
    "[ntds'19]: https://github.com/mdeff/ntds_2019\n",
    "\n",
    "[Benjamin Ricaud](https://people.epfl.ch/benjamin.ricaud), [EPFL LTS2](https://lts2.epfl.ch)\n",
    "\n",
    "* Dataset: [Open Tree of Life](https://tree.opentreeoflife.org)\n",
    "* Tools: [pandas](https://pandas.pydata.org), [numpy](http://www.numpy.org), [networkx](https://networkx.github.io), [gephi](https://gephi.org/)"
   ]
  },
  {
   "cell_type": "markdown",
   "metadata": {},
   "source": [
    "## Tools"
   ]
  },
  {
   "cell_type": "markdown",
   "metadata": {},
   "source": [
    "By convention, the first lines of code are always about importing the packages we'll use."
   ]
  },
  {
   "cell_type": "code",
   "execution_count": 1,
   "metadata": {},
   "outputs": [],
   "source": [
    "import pandas as pd\n",
    "import numpy as np\n",
    "import networkx as nx"
   ]
  },
  {
   "cell_type": "markdown",
   "metadata": {},
   "source": [
    "Tutorials on pandas can be found at:\n",
    "* <https://pandas.pydata.org/pandas-docs/stable/10min.html>\n",
    "* <https://pandas.pydata.org/pandas-docs/stable/tutorials.html>\n",
    "\n",
    "Tutorials on numpy can be found at:\n",
    "* <https://docs.scipy.org/doc/numpy/user/quickstart.html>\n",
    "* <http://www.scipy-lectures.org/intro/numpy/index.html>\n",
    "* <http://www.scipy-lectures.org/advanced/advanced_numpy/index.html>\n",
    "\n",
    "A tutorial on networkx can be found at:\n",
    "* <https://networkx.github.io/documentation/stable/tutorial.html>"
   ]
  },
  {
   "cell_type": "markdown",
   "metadata": {},
   "source": [
    "## Import the data\n",
    "\n",
    "We will play with a excerpt of the Tree of Life, that can be found together with this notebook. This dataset is reduced to the first 1000 taxons (starting from the root node). The full version is available here: [Open Tree of Life](https://tree.opentreeoflife.org/about/taxonomy-version/ott3.0).\n",
    "\n",
    "![Public domain, https://en.wikipedia.org/wiki/File:Phylogenetic_tree.svg](https://upload.wikimedia.org/wikipedia/commons/thumb/7/70/Phylogenetic_tree.svg/800px-Phylogenetic_tree.svg.png)"
   ]
  },
  {
   "cell_type": "code",
   "execution_count": 2,
   "metadata": {},
   "outputs": [],
   "source": [
    "tree_of_life = pd.read_csv('data/taxonomy_small.tsv', sep='\\t\\|\\t?', encoding='utf-8', engine='python')"
   ]
  },
  {
   "cell_type": "markdown",
   "metadata": {},
   "source": [
    "If you do not remember the details of a function:"
   ]
  },
  {
   "cell_type": "code",
   "execution_count": 11,
   "metadata": {},
   "outputs": [],
   "source": [
    "pd.read_csv?"
   ]
  },
  {
   "cell_type": "markdown",
   "metadata": {},
   "source": [
    "For more info on the separator, see [regex](https://docs.python.org/3.6/library/re.html)."
   ]
  },
  {
   "cell_type": "markdown",
   "metadata": {},
   "source": [
    "Now, what is the object `tree_of_life`? It is a Pandas DataFrame."
   ]
  },
  {
   "cell_type": "code",
   "execution_count": 4,
   "metadata": {},
   "outputs": [
    {
     "data": {
      "text/html": [
       "<div>\n",
       "<style scoped>\n",
       "    .dataframe tbody tr th:only-of-type {\n",
       "        vertical-align: middle;\n",
       "    }\n",
       "\n",
       "    .dataframe tbody tr th {\n",
       "        vertical-align: top;\n",
       "    }\n",
       "\n",
       "    .dataframe thead th {\n",
       "        text-align: right;\n",
       "    }\n",
       "</style>\n",
       "<table border=\"1\" class=\"dataframe\">\n",
       "  <thead>\n",
       "    <tr style=\"text-align: right;\">\n",
       "      <th></th>\n",
       "      <th>uid</th>\n",
       "      <th>parent_uid</th>\n",
       "      <th>name</th>\n",
       "      <th>rank</th>\n",
       "      <th>sourceinfo</th>\n",
       "      <th>uniqname</th>\n",
       "      <th>flags</th>\n",
       "      <th>Unnamed: 7</th>\n",
       "    </tr>\n",
       "  </thead>\n",
       "  <tbody>\n",
       "    <tr>\n",
       "      <td>0</td>\n",
       "      <td>805080</td>\n",
       "      <td>NaN</td>\n",
       "      <td>life</td>\n",
       "      <td>no rank</td>\n",
       "      <td>silva:0,ncbi:1,worms:1,gbif:0,irmng:0</td>\n",
       "      <td>NaN</td>\n",
       "      <td>NaN</td>\n",
       "      <td>NaN</td>\n",
       "    </tr>\n",
       "    <tr>\n",
       "      <td>1</td>\n",
       "      <td>93302</td>\n",
       "      <td>805080.0</td>\n",
       "      <td>cellular organisms</td>\n",
       "      <td>no rank</td>\n",
       "      <td>ncbi:131567</td>\n",
       "      <td>NaN</td>\n",
       "      <td>NaN</td>\n",
       "      <td>NaN</td>\n",
       "    </tr>\n",
       "    <tr>\n",
       "      <td>2</td>\n",
       "      <td>996421</td>\n",
       "      <td>93302.0</td>\n",
       "      <td>Archaea</td>\n",
       "      <td>domain</td>\n",
       "      <td>silva:D37982/#1,ncbi:2157,worms:8,gbif:2,irmng:12</td>\n",
       "      <td>Archaea (domain silva:D37982/#1)</td>\n",
       "      <td>NaN</td>\n",
       "      <td>NaN</td>\n",
       "    </tr>\n",
       "    <tr>\n",
       "      <td>3</td>\n",
       "      <td>5246114</td>\n",
       "      <td>996421.0</td>\n",
       "      <td>Marine Hydrothermal Vent Group 1(MHVG-1)</td>\n",
       "      <td>no rank - terminal</td>\n",
       "      <td>silva:AB302039/#2</td>\n",
       "      <td>NaN</td>\n",
       "      <td>NaN</td>\n",
       "      <td>NaN</td>\n",
       "    </tr>\n",
       "    <tr>\n",
       "      <td>4</td>\n",
       "      <td>102415</td>\n",
       "      <td>996421.0</td>\n",
       "      <td>Thaumarchaeota</td>\n",
       "      <td>phylum</td>\n",
       "      <td>silva:D87348/#2,ncbi:651137,worms:559429,irmng...</td>\n",
       "      <td>NaN</td>\n",
       "      <td>NaN</td>\n",
       "      <td>NaN</td>\n",
       "    </tr>\n",
       "    <tr>\n",
       "      <td>...</td>\n",
       "      <td>...</td>\n",
       "      <td>...</td>\n",
       "      <td>...</td>\n",
       "      <td>...</td>\n",
       "      <td>...</td>\n",
       "      <td>...</td>\n",
       "      <td>...</td>\n",
       "      <td>...</td>\n",
       "    </tr>\n",
       "    <tr>\n",
       "      <td>994</td>\n",
       "      <td>5571591</td>\n",
       "      <td>102415.0</td>\n",
       "      <td>uncultured marine thaumarchaeote KM3_175_A05</td>\n",
       "      <td>species</td>\n",
       "      <td>ncbi:1456051</td>\n",
       "      <td>NaN</td>\n",
       "      <td>environmental,not_otu</td>\n",
       "      <td>NaN</td>\n",
       "    </tr>\n",
       "    <tr>\n",
       "      <td>995</td>\n",
       "      <td>5571756</td>\n",
       "      <td>102415.0</td>\n",
       "      <td>uncultured marine thaumarchaeote KM3_46_E07</td>\n",
       "      <td>species</td>\n",
       "      <td>ncbi:1456159</td>\n",
       "      <td>NaN</td>\n",
       "      <td>environmental,not_otu</td>\n",
       "      <td>NaN</td>\n",
       "    </tr>\n",
       "    <tr>\n",
       "      <td>996</td>\n",
       "      <td>5571888</td>\n",
       "      <td>102415.0</td>\n",
       "      <td>uncultured marine thaumarchaeote KM3_02_A10</td>\n",
       "      <td>species</td>\n",
       "      <td>ncbi:1455955</td>\n",
       "      <td>NaN</td>\n",
       "      <td>environmental,not_otu</td>\n",
       "      <td>NaN</td>\n",
       "    </tr>\n",
       "    <tr>\n",
       "      <td>997</td>\n",
       "      <td>5205131</td>\n",
       "      <td>102415.0</td>\n",
       "      <td>thaumarchaeote enrichment culture clone Ec.FBa...</td>\n",
       "      <td>species</td>\n",
       "      <td>ncbi:1238015</td>\n",
       "      <td>NaN</td>\n",
       "      <td>environmental</td>\n",
       "      <td>NaN</td>\n",
       "    </tr>\n",
       "    <tr>\n",
       "      <td>998</td>\n",
       "      <td>5572032</td>\n",
       "      <td>102415.0</td>\n",
       "      <td>uncultured marine thaumarchaeote KM3_53_B02</td>\n",
       "      <td>species</td>\n",
       "      <td>ncbi:1456180</td>\n",
       "      <td>NaN</td>\n",
       "      <td>environmental,not_otu</td>\n",
       "      <td>NaN</td>\n",
       "    </tr>\n",
       "  </tbody>\n",
       "</table>\n",
       "<p>999 rows × 8 columns</p>\n",
       "</div>"
      ],
      "text/plain": [
       "         uid  parent_uid                                               name  \\\n",
       "0     805080         NaN                                               life   \n",
       "1      93302    805080.0                                 cellular organisms   \n",
       "2     996421     93302.0                                            Archaea   \n",
       "3    5246114    996421.0           Marine Hydrothermal Vent Group 1(MHVG-1)   \n",
       "4     102415    996421.0                                     Thaumarchaeota   \n",
       "..       ...         ...                                                ...   \n",
       "994  5571591    102415.0       uncultured marine thaumarchaeote KM3_175_A05   \n",
       "995  5571756    102415.0        uncultured marine thaumarchaeote KM3_46_E07   \n",
       "996  5571888    102415.0        uncultured marine thaumarchaeote KM3_02_A10   \n",
       "997  5205131    102415.0  thaumarchaeote enrichment culture clone Ec.FBa...   \n",
       "998  5572032    102415.0        uncultured marine thaumarchaeote KM3_53_B02   \n",
       "\n",
       "                   rank                                         sourceinfo  \\\n",
       "0               no rank              silva:0,ncbi:1,worms:1,gbif:0,irmng:0   \n",
       "1               no rank                                        ncbi:131567   \n",
       "2                domain  silva:D37982/#1,ncbi:2157,worms:8,gbif:2,irmng:12   \n",
       "3    no rank - terminal                                  silva:AB302039/#2   \n",
       "4                phylum  silva:D87348/#2,ncbi:651137,worms:559429,irmng...   \n",
       "..                  ...                                                ...   \n",
       "994             species                                       ncbi:1456051   \n",
       "995             species                                       ncbi:1456159   \n",
       "996             species                                       ncbi:1455955   \n",
       "997             species                                       ncbi:1238015   \n",
       "998             species                                       ncbi:1456180   \n",
       "\n",
       "                             uniqname                  flags  Unnamed: 7  \n",
       "0                                 NaN                    NaN         NaN  \n",
       "1                                 NaN                    NaN         NaN  \n",
       "2    Archaea (domain silva:D37982/#1)                    NaN         NaN  \n",
       "3                                 NaN                    NaN         NaN  \n",
       "4                                 NaN                    NaN         NaN  \n",
       "..                                ...                    ...         ...  \n",
       "994                               NaN  environmental,not_otu         NaN  \n",
       "995                               NaN  environmental,not_otu         NaN  \n",
       "996                               NaN  environmental,not_otu         NaN  \n",
       "997                               NaN          environmental         NaN  \n",
       "998                               NaN  environmental,not_otu         NaN  \n",
       "\n",
       "[999 rows x 8 columns]"
      ]
     },
     "execution_count": 4,
     "metadata": {},
     "output_type": "execute_result"
    }
   ],
   "source": [
    "tree_of_life"
   ]
  },
  {
   "cell_type": "markdown",
   "metadata": {},
   "source": [
    "The description of the entries is given here:\n",
    "https://github.com/OpenTreeOfLife/reference-taxonomy/wiki/Interim-taxonomy-file-format"
   ]
  },
  {
   "cell_type": "markdown",
   "metadata": {},
   "source": [
    "## Explore the table"
   ]
  },
  {
   "cell_type": "code",
   "execution_count": 5,
   "metadata": {},
   "outputs": [
    {
     "data": {
      "text/plain": [
       "Index(['uid', 'parent_uid', 'name', 'rank', 'sourceinfo', 'uniqname', 'flags',\n",
       "       'Unnamed: 7'],\n",
       "      dtype='object')"
      ]
     },
     "execution_count": 5,
     "metadata": {},
     "output_type": "execute_result"
    }
   ],
   "source": [
    "tree_of_life.columns"
   ]
  },
  {
   "cell_type": "markdown",
   "metadata": {},
   "source": [
    "Let us drop some columns."
   ]
  },
  {
   "cell_type": "code",
   "execution_count": 6,
   "metadata": {},
   "outputs": [],
   "source": [
    "tree_of_life = tree_of_life.drop(columns=['sourceinfo', 'uniqname', 'flags','Unnamed: 7'])"
   ]
  },
  {
   "cell_type": "code",
   "execution_count": 7,
   "metadata": {},
   "outputs": [
    {
     "data": {
      "text/html": [
       "<div>\n",
       "<style scoped>\n",
       "    .dataframe tbody tr th:only-of-type {\n",
       "        vertical-align: middle;\n",
       "    }\n",
       "\n",
       "    .dataframe tbody tr th {\n",
       "        vertical-align: top;\n",
       "    }\n",
       "\n",
       "    .dataframe thead th {\n",
       "        text-align: right;\n",
       "    }\n",
       "</style>\n",
       "<table border=\"1\" class=\"dataframe\">\n",
       "  <thead>\n",
       "    <tr style=\"text-align: right;\">\n",
       "      <th></th>\n",
       "      <th>uid</th>\n",
       "      <th>parent_uid</th>\n",
       "      <th>name</th>\n",
       "      <th>rank</th>\n",
       "    </tr>\n",
       "  </thead>\n",
       "  <tbody>\n",
       "    <tr>\n",
       "      <td>0</td>\n",
       "      <td>805080</td>\n",
       "      <td>NaN</td>\n",
       "      <td>life</td>\n",
       "      <td>no rank</td>\n",
       "    </tr>\n",
       "    <tr>\n",
       "      <td>1</td>\n",
       "      <td>93302</td>\n",
       "      <td>805080.0</td>\n",
       "      <td>cellular organisms</td>\n",
       "      <td>no rank</td>\n",
       "    </tr>\n",
       "    <tr>\n",
       "      <td>2</td>\n",
       "      <td>996421</td>\n",
       "      <td>93302.0</td>\n",
       "      <td>Archaea</td>\n",
       "      <td>domain</td>\n",
       "    </tr>\n",
       "    <tr>\n",
       "      <td>3</td>\n",
       "      <td>5246114</td>\n",
       "      <td>996421.0</td>\n",
       "      <td>Marine Hydrothermal Vent Group 1(MHVG-1)</td>\n",
       "      <td>no rank - terminal</td>\n",
       "    </tr>\n",
       "    <tr>\n",
       "      <td>4</td>\n",
       "      <td>102415</td>\n",
       "      <td>996421.0</td>\n",
       "      <td>Thaumarchaeota</td>\n",
       "      <td>phylum</td>\n",
       "    </tr>\n",
       "  </tbody>\n",
       "</table>\n",
       "</div>"
      ],
      "text/plain": [
       "       uid  parent_uid                                      name  \\\n",
       "0   805080         NaN                                      life   \n",
       "1    93302    805080.0                        cellular organisms   \n",
       "2   996421     93302.0                                   Archaea   \n",
       "3  5246114    996421.0  Marine Hydrothermal Vent Group 1(MHVG-1)   \n",
       "4   102415    996421.0                            Thaumarchaeota   \n",
       "\n",
       "                 rank  \n",
       "0             no rank  \n",
       "1             no rank  \n",
       "2              domain  \n",
       "3  no rank - terminal  \n",
       "4              phylum  "
      ]
     },
     "execution_count": 7,
     "metadata": {},
     "output_type": "execute_result"
    }
   ],
   "source": [
    "tree_of_life.head()"
   ]
  },
  {
   "cell_type": "markdown",
   "metadata": {},
   "source": [
    "Pandas infered the type of values inside each column (int, float, string and string). The parent_uid column has float values because there was a missing value, converted to `NaN`"
   ]
  },
  {
   "cell_type": "code",
   "execution_count": 8,
   "metadata": {},
   "outputs": [
    {
     "name": "stdout",
     "output_type": "stream",
     "text": [
      "int64 float64\n"
     ]
    }
   ],
   "source": [
    "print(tree_of_life['uid'].dtype, tree_of_life.parent_uid.dtype)"
   ]
  },
  {
   "cell_type": "markdown",
   "metadata": {},
   "source": [
    "How to access individual values."
   ]
  },
  {
   "cell_type": "code",
   "execution_count": 9,
   "metadata": {},
   "outputs": [
    {
     "data": {
      "text/plain": [
       "'life'"
      ]
     },
     "execution_count": 9,
     "metadata": {},
     "output_type": "execute_result"
    }
   ],
   "source": [
    "tree_of_life.iloc[0, 2]"
   ]
  },
  {
   "cell_type": "code",
   "execution_count": 10,
   "metadata": {},
   "outputs": [
    {
     "data": {
      "text/plain": [
       "'life'"
      ]
     },
     "execution_count": 10,
     "metadata": {},
     "output_type": "execute_result"
    }
   ],
   "source": [
    "tree_of_life.loc[0, 'name']"
   ]
  },
  {
   "cell_type": "markdown",
   "metadata": {},
   "source": [
    "**Exercise**: Guess the output of the following line:\n",
    "true"
   ]
  },
  {
   "cell_type": "code",
   "execution_count": 16,
   "metadata": {},
   "outputs": [
    {
     "data": {
      "text/plain": [
       "True"
      ]
     },
     "execution_count": 16,
     "metadata": {},
     "output_type": "execute_result"
    }
   ],
   "source": [
    "tree_of_life.uid[0] == tree_of_life.parent_uid[1]"
   ]
  },
  {
   "cell_type": "code",
   "execution_count": 19,
   "metadata": {},
   "outputs": [
    {
     "data": {
      "text/plain": [
       "(805080, 805080.0)"
      ]
     },
     "execution_count": 19,
     "metadata": {},
     "output_type": "execute_result"
    }
   ],
   "source": [
    "tree_of_life.uid[0], tree_of_life.parent_uid[1]"
   ]
  },
  {
   "cell_type": "markdown",
   "metadata": {},
   "source": [
    "Ordering the data."
   ]
  },
  {
   "cell_type": "code",
   "execution_count": 20,
   "metadata": {},
   "outputs": [
    {
     "data": {
      "text/html": [
       "<div>\n",
       "<style scoped>\n",
       "    .dataframe tbody tr th:only-of-type {\n",
       "        vertical-align: middle;\n",
       "    }\n",
       "\n",
       "    .dataframe tbody tr th {\n",
       "        vertical-align: top;\n",
       "    }\n",
       "\n",
       "    .dataframe thead th {\n",
       "        text-align: right;\n",
       "    }\n",
       "</style>\n",
       "<table border=\"1\" class=\"dataframe\">\n",
       "  <thead>\n",
       "    <tr style=\"text-align: right;\">\n",
       "      <th></th>\n",
       "      <th>uid</th>\n",
       "      <th>parent_uid</th>\n",
       "      <th>name</th>\n",
       "      <th>rank</th>\n",
       "    </tr>\n",
       "  </thead>\n",
       "  <tbody>\n",
       "    <tr>\n",
       "      <td>297</td>\n",
       "      <td>5246638</td>\n",
       "      <td>102415.0</td>\n",
       "      <td>AB64A-17</td>\n",
       "      <td>no rank - terminal</td>\n",
       "    </tr>\n",
       "    <tr>\n",
       "      <td>293</td>\n",
       "      <td>5246632</td>\n",
       "      <td>102415.0</td>\n",
       "      <td>AK31</td>\n",
       "      <td>no rank - terminal</td>\n",
       "    </tr>\n",
       "    <tr>\n",
       "      <td>298</td>\n",
       "      <td>5246637</td>\n",
       "      <td>102415.0</td>\n",
       "      <td>AK56</td>\n",
       "      <td>no rank - terminal</td>\n",
       "    </tr>\n",
       "    <tr>\n",
       "      <td>202</td>\n",
       "      <td>5246635</td>\n",
       "      <td>102415.0</td>\n",
       "      <td>AK59</td>\n",
       "      <td>no rank - terminal</td>\n",
       "    </tr>\n",
       "    <tr>\n",
       "      <td>204</td>\n",
       "      <td>5246636</td>\n",
       "      <td>102415.0</td>\n",
       "      <td>AK8</td>\n",
       "      <td>no rank - terminal</td>\n",
       "    </tr>\n",
       "  </tbody>\n",
       "</table>\n",
       "</div>"
      ],
      "text/plain": [
       "         uid  parent_uid      name                rank\n",
       "297  5246638    102415.0  AB64A-17  no rank - terminal\n",
       "293  5246632    102415.0      AK31  no rank - terminal\n",
       "298  5246637    102415.0      AK56  no rank - terminal\n",
       "202  5246635    102415.0      AK59  no rank - terminal\n",
       "204  5246636    102415.0       AK8  no rank - terminal"
      ]
     },
     "execution_count": 20,
     "metadata": {},
     "output_type": "execute_result"
    }
   ],
   "source": [
    "tree_of_life.sort_values(by='name').head()"
   ]
  },
  {
   "cell_type": "markdown",
   "metadata": {},
   "source": [
    " *Remark:* Some functions do not change the dataframe (option `inline=False` by default)."
   ]
  },
  {
   "cell_type": "code",
   "execution_count": 21,
   "metadata": {},
   "outputs": [
    {
     "data": {
      "text/html": [
       "<div>\n",
       "<style scoped>\n",
       "    .dataframe tbody tr th:only-of-type {\n",
       "        vertical-align: middle;\n",
       "    }\n",
       "\n",
       "    .dataframe tbody tr th {\n",
       "        vertical-align: top;\n",
       "    }\n",
       "\n",
       "    .dataframe thead th {\n",
       "        text-align: right;\n",
       "    }\n",
       "</style>\n",
       "<table border=\"1\" class=\"dataframe\">\n",
       "  <thead>\n",
       "    <tr style=\"text-align: right;\">\n",
       "      <th></th>\n",
       "      <th>uid</th>\n",
       "      <th>parent_uid</th>\n",
       "      <th>name</th>\n",
       "      <th>rank</th>\n",
       "    </tr>\n",
       "  </thead>\n",
       "  <tbody>\n",
       "    <tr>\n",
       "      <td>0</td>\n",
       "      <td>805080</td>\n",
       "      <td>NaN</td>\n",
       "      <td>life</td>\n",
       "      <td>no rank</td>\n",
       "    </tr>\n",
       "    <tr>\n",
       "      <td>1</td>\n",
       "      <td>93302</td>\n",
       "      <td>805080.0</td>\n",
       "      <td>cellular organisms</td>\n",
       "      <td>no rank</td>\n",
       "    </tr>\n",
       "    <tr>\n",
       "      <td>2</td>\n",
       "      <td>996421</td>\n",
       "      <td>93302.0</td>\n",
       "      <td>Archaea</td>\n",
       "      <td>domain</td>\n",
       "    </tr>\n",
       "    <tr>\n",
       "      <td>3</td>\n",
       "      <td>5246114</td>\n",
       "      <td>996421.0</td>\n",
       "      <td>Marine Hydrothermal Vent Group 1(MHVG-1)</td>\n",
       "      <td>no rank - terminal</td>\n",
       "    </tr>\n",
       "    <tr>\n",
       "      <td>4</td>\n",
       "      <td>102415</td>\n",
       "      <td>996421.0</td>\n",
       "      <td>Thaumarchaeota</td>\n",
       "      <td>phylum</td>\n",
       "    </tr>\n",
       "  </tbody>\n",
       "</table>\n",
       "</div>"
      ],
      "text/plain": [
       "       uid  parent_uid                                      name  \\\n",
       "0   805080         NaN                                      life   \n",
       "1    93302    805080.0                        cellular organisms   \n",
       "2   996421     93302.0                                   Archaea   \n",
       "3  5246114    996421.0  Marine Hydrothermal Vent Group 1(MHVG-1)   \n",
       "4   102415    996421.0                            Thaumarchaeota   \n",
       "\n",
       "                 rank  \n",
       "0             no rank  \n",
       "1             no rank  \n",
       "2              domain  \n",
       "3  no rank - terminal  \n",
       "4              phylum  "
      ]
     },
     "execution_count": 21,
     "metadata": {},
     "output_type": "execute_result"
    }
   ],
   "source": [
    "tree_of_life.head()"
   ]
  },
  {
   "cell_type": "markdown",
   "metadata": {},
   "source": [
    "## Operation on the columns"
   ]
  },
  {
   "cell_type": "markdown",
   "metadata": {},
   "source": [
    "Unique values, useful for categories:"
   ]
  },
  {
   "cell_type": "code",
   "execution_count": 22,
   "metadata": {},
   "outputs": [
    {
     "data": {
      "text/plain": [
       "array(['no rank', 'domain', 'no rank - terminal', 'phylum', 'species',\n",
       "       'order', 'family', 'genus', 'class'], dtype=object)"
      ]
     },
     "execution_count": 22,
     "metadata": {},
     "output_type": "execute_result"
    }
   ],
   "source": [
    "tree_of_life['rank'].unique()"
   ]
  },
  {
   "cell_type": "markdown",
   "metadata": {},
   "source": [
    "Selecting only one category."
   ]
  },
  {
   "cell_type": "code",
   "execution_count": 23,
   "metadata": {},
   "outputs": [
    {
     "data": {
      "text/html": [
       "<div>\n",
       "<style scoped>\n",
       "    .dataframe tbody tr th:only-of-type {\n",
       "        vertical-align: middle;\n",
       "    }\n",
       "\n",
       "    .dataframe tbody tr th {\n",
       "        vertical-align: top;\n",
       "    }\n",
       "\n",
       "    .dataframe thead th {\n",
       "        text-align: right;\n",
       "    }\n",
       "</style>\n",
       "<table border=\"1\" class=\"dataframe\">\n",
       "  <thead>\n",
       "    <tr style=\"text-align: right;\">\n",
       "      <th></th>\n",
       "      <th>uid</th>\n",
       "      <th>parent_uid</th>\n",
       "      <th>name</th>\n",
       "      <th>rank</th>\n",
       "    </tr>\n",
       "  </thead>\n",
       "  <tbody>\n",
       "    <tr>\n",
       "      <td>7</td>\n",
       "      <td>5205649</td>\n",
       "      <td>4795965.0</td>\n",
       "      <td>uncultured marine crenarchaeote 'Gulf of Maine'</td>\n",
       "      <td>species</td>\n",
       "    </tr>\n",
       "    <tr>\n",
       "      <td>8</td>\n",
       "      <td>5208050</td>\n",
       "      <td>4795965.0</td>\n",
       "      <td>uncultured marine archaeon DCM858</td>\n",
       "      <td>species</td>\n",
       "    </tr>\n",
       "    <tr>\n",
       "      <td>9</td>\n",
       "      <td>5205092</td>\n",
       "      <td>4795965.0</td>\n",
       "      <td>uncultured marine group I thaumarchaeote</td>\n",
       "      <td>species</td>\n",
       "    </tr>\n",
       "    <tr>\n",
       "      <td>10</td>\n",
       "      <td>5205072</td>\n",
       "      <td>4795965.0</td>\n",
       "      <td>uncultured Nitrosopumilaceae archaeon</td>\n",
       "      <td>species</td>\n",
       "    </tr>\n",
       "    <tr>\n",
       "      <td>11</td>\n",
       "      <td>5208765</td>\n",
       "      <td>4795965.0</td>\n",
       "      <td>uncultured marine archaeon DCM874</td>\n",
       "      <td>species</td>\n",
       "    </tr>\n",
       "  </tbody>\n",
       "</table>\n",
       "</div>"
      ],
      "text/plain": [
       "        uid  parent_uid                                             name  \\\n",
       "7   5205649   4795965.0  uncultured marine crenarchaeote 'Gulf of Maine'   \n",
       "8   5208050   4795965.0                uncultured marine archaeon DCM858   \n",
       "9   5205092   4795965.0         uncultured marine group I thaumarchaeote   \n",
       "10  5205072   4795965.0            uncultured Nitrosopumilaceae archaeon   \n",
       "11  5208765   4795965.0                uncultured marine archaeon DCM874   \n",
       "\n",
       "       rank  \n",
       "7   species  \n",
       "8   species  \n",
       "9   species  \n",
       "10  species  \n",
       "11  species  "
      ]
     },
     "execution_count": 23,
     "metadata": {},
     "output_type": "execute_result"
    }
   ],
   "source": [
    "tree_of_life[tree_of_life['rank'] == 'species'].head()"
   ]
  },
  {
   "cell_type": "markdown",
   "metadata": {},
   "source": [
    "How many species do we have?"
   ]
  },
  {
   "cell_type": "code",
   "execution_count": 24,
   "metadata": {},
   "outputs": [
    {
     "data": {
      "text/plain": [
       "912"
      ]
     },
     "execution_count": 24,
     "metadata": {},
     "output_type": "execute_result"
    }
   ],
   "source": [
    "len(tree_of_life[tree_of_life['rank'] == 'species'])"
   ]
  },
  {
   "cell_type": "code",
   "execution_count": 25,
   "metadata": {},
   "outputs": [
    {
     "data": {
      "text/plain": [
       "species               912\n",
       "no rank - terminal     58\n",
       "no rank                12\n",
       "genus                   8\n",
       "order                   3\n",
       "family                  3\n",
       "domain                  1\n",
       "class                   1\n",
       "phylum                  1\n",
       "Name: rank, dtype: int64"
      ]
     },
     "execution_count": 25,
     "metadata": {},
     "output_type": "execute_result"
    }
   ],
   "source": [
    "tree_of_life['rank'].value_counts()"
   ]
  },
  {
   "cell_type": "markdown",
   "metadata": {},
   "source": [
    "**Exercise:** Display the entry with name 'Archaea', then display the entry of its parent."
   ]
  },
  {
   "cell_type": "code",
   "execution_count": 29,
   "metadata": {},
   "outputs": [
    {
     "data": {
      "text/html": [
       "<div>\n",
       "<style scoped>\n",
       "    .dataframe tbody tr th:only-of-type {\n",
       "        vertical-align: middle;\n",
       "    }\n",
       "\n",
       "    .dataframe tbody tr th {\n",
       "        vertical-align: top;\n",
       "    }\n",
       "\n",
       "    .dataframe thead th {\n",
       "        text-align: right;\n",
       "    }\n",
       "</style>\n",
       "<table border=\"1\" class=\"dataframe\">\n",
       "  <thead>\n",
       "    <tr style=\"text-align: right;\">\n",
       "      <th></th>\n",
       "      <th>uid</th>\n",
       "      <th>parent_uid</th>\n",
       "      <th>name</th>\n",
       "      <th>rank</th>\n",
       "    </tr>\n",
       "  </thead>\n",
       "  <tbody>\n",
       "    <tr>\n",
       "      <td>2</td>\n",
       "      <td>996421</td>\n",
       "      <td>93302.0</td>\n",
       "      <td>Archaea</td>\n",
       "      <td>domain</td>\n",
       "    </tr>\n",
       "  </tbody>\n",
       "</table>\n",
       "</div>"
      ],
      "text/plain": [
       "      uid  parent_uid     name    rank\n",
       "2  996421     93302.0  Archaea  domain"
      ]
     },
     "execution_count": 29,
     "metadata": {},
     "output_type": "execute_result"
    }
   ],
   "source": [
    "tree_of_life[tree_of_life.name == 'Archaea']"
   ]
  },
  {
   "cell_type": "code",
   "execution_count": 39,
   "metadata": {},
   "outputs": [
    {
     "data": {
      "text/html": [
       "<div>\n",
       "<style scoped>\n",
       "    .dataframe tbody tr th:only-of-type {\n",
       "        vertical-align: middle;\n",
       "    }\n",
       "\n",
       "    .dataframe tbody tr th {\n",
       "        vertical-align: top;\n",
       "    }\n",
       "\n",
       "    .dataframe thead th {\n",
       "        text-align: right;\n",
       "    }\n",
       "</style>\n",
       "<table border=\"1\" class=\"dataframe\">\n",
       "  <thead>\n",
       "    <tr style=\"text-align: right;\">\n",
       "      <th></th>\n",
       "      <th>uid</th>\n",
       "      <th>parent_uid</th>\n",
       "      <th>name</th>\n",
       "      <th>rank</th>\n",
       "    </tr>\n",
       "  </thead>\n",
       "  <tbody>\n",
       "    <tr>\n",
       "      <td>1</td>\n",
       "      <td>93302</td>\n",
       "      <td>805080.0</td>\n",
       "      <td>cellular organisms</td>\n",
       "      <td>no rank</td>\n",
       "    </tr>\n",
       "  </tbody>\n",
       "</table>\n",
       "</div>"
      ],
      "text/plain": [
       "     uid  parent_uid                name     rank\n",
       "1  93302    805080.0  cellular organisms  no rank"
      ]
     },
     "execution_count": 39,
     "metadata": {},
     "output_type": "execute_result"
    }
   ],
   "source": [
    "tree_of_life[tree_of_life.uid == tree_of_life[tree_of_life.name == 'Archaea'].iloc[0].parent_uid]"
   ]
  },
  {
   "cell_type": "markdown",
   "metadata": {},
   "source": [
    "## Building the graph"
   ]
  },
  {
   "cell_type": "markdown",
   "metadata": {},
   "source": [
    "Let us build the adjacency matrix of the graph. For that we need to reorganize the data. First we separate the nodes and their properties from the edges."
   ]
  },
  {
   "cell_type": "code",
   "execution_count": 40,
   "metadata": {},
   "outputs": [],
   "source": [
    "nodes = tree_of_life[['uid', 'name','rank']]\n",
    "edges = tree_of_life[['uid', 'parent_uid']]"
   ]
  },
  {
   "cell_type": "markdown",
   "metadata": {},
   "source": [
    "When using an adjacency matrix, nodes are indexed by their row or column number and not by a `uid`. Let us create a new index for the nodes."
   ]
  },
  {
   "cell_type": "code",
   "execution_count": 41,
   "metadata": {},
   "outputs": [
    {
     "data": {
      "text/html": [
       "<div>\n",
       "<style scoped>\n",
       "    .dataframe tbody tr th:only-of-type {\n",
       "        vertical-align: middle;\n",
       "    }\n",
       "\n",
       "    .dataframe tbody tr th {\n",
       "        vertical-align: top;\n",
       "    }\n",
       "\n",
       "    .dataframe thead th {\n",
       "        text-align: right;\n",
       "    }\n",
       "</style>\n",
       "<table border=\"1\" class=\"dataframe\">\n",
       "  <thead>\n",
       "    <tr style=\"text-align: right;\">\n",
       "      <th></th>\n",
       "      <th>node_idx</th>\n",
       "      <th>uid</th>\n",
       "      <th>name</th>\n",
       "      <th>rank</th>\n",
       "    </tr>\n",
       "  </thead>\n",
       "  <tbody>\n",
       "    <tr>\n",
       "      <td>0</td>\n",
       "      <td>0</td>\n",
       "      <td>805080</td>\n",
       "      <td>life</td>\n",
       "      <td>no rank</td>\n",
       "    </tr>\n",
       "    <tr>\n",
       "      <td>1</td>\n",
       "      <td>1</td>\n",
       "      <td>93302</td>\n",
       "      <td>cellular organisms</td>\n",
       "      <td>no rank</td>\n",
       "    </tr>\n",
       "    <tr>\n",
       "      <td>2</td>\n",
       "      <td>2</td>\n",
       "      <td>996421</td>\n",
       "      <td>Archaea</td>\n",
       "      <td>domain</td>\n",
       "    </tr>\n",
       "    <tr>\n",
       "      <td>3</td>\n",
       "      <td>3</td>\n",
       "      <td>5246114</td>\n",
       "      <td>Marine Hydrothermal Vent Group 1(MHVG-1)</td>\n",
       "      <td>no rank - terminal</td>\n",
       "    </tr>\n",
       "    <tr>\n",
       "      <td>4</td>\n",
       "      <td>4</td>\n",
       "      <td>102415</td>\n",
       "      <td>Thaumarchaeota</td>\n",
       "      <td>phylum</td>\n",
       "    </tr>\n",
       "  </tbody>\n",
       "</table>\n",
       "</div>"
      ],
      "text/plain": [
       "   node_idx      uid                                      name  \\\n",
       "0         0   805080                                      life   \n",
       "1         1    93302                        cellular organisms   \n",
       "2         2   996421                                   Archaea   \n",
       "3         3  5246114  Marine Hydrothermal Vent Group 1(MHVG-1)   \n",
       "4         4   102415                            Thaumarchaeota   \n",
       "\n",
       "                 rank  \n",
       "0             no rank  \n",
       "1             no rank  \n",
       "2              domain  \n",
       "3  no rank - terminal  \n",
       "4              phylum  "
      ]
     },
     "execution_count": 41,
     "metadata": {},
     "output_type": "execute_result"
    }
   ],
   "source": [
    "# Create a column for node index.\n",
    "nodes.reset_index(level=0, inplace=True)\n",
    "nodes = nodes.rename(columns={'index':'node_idx'})\n",
    "nodes.head()"
   ]
  },
  {
   "cell_type": "code",
   "execution_count": 42,
   "metadata": {},
   "outputs": [
    {
     "data": {
      "text/html": [
       "<div>\n",
       "<style scoped>\n",
       "    .dataframe tbody tr th:only-of-type {\n",
       "        vertical-align: middle;\n",
       "    }\n",
       "\n",
       "    .dataframe tbody tr th {\n",
       "        vertical-align: top;\n",
       "    }\n",
       "\n",
       "    .dataframe thead th {\n",
       "        text-align: right;\n",
       "    }\n",
       "</style>\n",
       "<table border=\"1\" class=\"dataframe\">\n",
       "  <thead>\n",
       "    <tr style=\"text-align: right;\">\n",
       "      <th></th>\n",
       "      <th>node_idx</th>\n",
       "    </tr>\n",
       "    <tr>\n",
       "      <th>uid</th>\n",
       "      <th></th>\n",
       "    </tr>\n",
       "  </thead>\n",
       "  <tbody>\n",
       "    <tr>\n",
       "      <td>805080</td>\n",
       "      <td>0</td>\n",
       "    </tr>\n",
       "    <tr>\n",
       "      <td>93302</td>\n",
       "      <td>1</td>\n",
       "    </tr>\n",
       "    <tr>\n",
       "      <td>996421</td>\n",
       "      <td>2</td>\n",
       "    </tr>\n",
       "    <tr>\n",
       "      <td>5246114</td>\n",
       "      <td>3</td>\n",
       "    </tr>\n",
       "    <tr>\n",
       "      <td>102415</td>\n",
       "      <td>4</td>\n",
       "    </tr>\n",
       "  </tbody>\n",
       "</table>\n",
       "</div>"
      ],
      "text/plain": [
       "         node_idx\n",
       "uid              \n",
       "805080          0\n",
       "93302           1\n",
       "996421          2\n",
       "5246114         3\n",
       "102415          4"
      ]
     },
     "execution_count": 42,
     "metadata": {},
     "output_type": "execute_result"
    }
   ],
   "source": [
    "# Create a conversion table from uid to node index.\n",
    "uid2idx = nodes[['node_idx', 'uid']]\n",
    "uid2idx = uid2idx.set_index('uid')\n",
    "uid2idx.head()"
   ]
  },
  {
   "cell_type": "code",
   "execution_count": 43,
   "metadata": {},
   "outputs": [
    {
     "data": {
      "text/html": [
       "<div>\n",
       "<style scoped>\n",
       "    .dataframe tbody tr th:only-of-type {\n",
       "        vertical-align: middle;\n",
       "    }\n",
       "\n",
       "    .dataframe tbody tr th {\n",
       "        vertical-align: top;\n",
       "    }\n",
       "\n",
       "    .dataframe thead th {\n",
       "        text-align: right;\n",
       "    }\n",
       "</style>\n",
       "<table border=\"1\" class=\"dataframe\">\n",
       "  <thead>\n",
       "    <tr style=\"text-align: right;\">\n",
       "      <th></th>\n",
       "      <th>uid</th>\n",
       "      <th>parent_uid</th>\n",
       "    </tr>\n",
       "  </thead>\n",
       "  <tbody>\n",
       "    <tr>\n",
       "      <td>0</td>\n",
       "      <td>805080</td>\n",
       "      <td>NaN</td>\n",
       "    </tr>\n",
       "    <tr>\n",
       "      <td>1</td>\n",
       "      <td>93302</td>\n",
       "      <td>805080.0</td>\n",
       "    </tr>\n",
       "    <tr>\n",
       "      <td>2</td>\n",
       "      <td>996421</td>\n",
       "      <td>93302.0</td>\n",
       "    </tr>\n",
       "    <tr>\n",
       "      <td>3</td>\n",
       "      <td>5246114</td>\n",
       "      <td>996421.0</td>\n",
       "    </tr>\n",
       "    <tr>\n",
       "      <td>4</td>\n",
       "      <td>102415</td>\n",
       "      <td>996421.0</td>\n",
       "    </tr>\n",
       "  </tbody>\n",
       "</table>\n",
       "</div>"
      ],
      "text/plain": [
       "       uid  parent_uid\n",
       "0   805080         NaN\n",
       "1    93302    805080.0\n",
       "2   996421     93302.0\n",
       "3  5246114    996421.0\n",
       "4   102415    996421.0"
      ]
     },
     "execution_count": 43,
     "metadata": {},
     "output_type": "execute_result"
    }
   ],
   "source": [
    "edges.head()"
   ]
  },
  {
   "cell_type": "markdown",
   "metadata": {},
   "source": [
    "Now we are ready to use yet another powerful function of Pandas. Those familiar with SQL will recognize it: the `join` function."
   ]
  },
  {
   "cell_type": "code",
   "execution_count": 44,
   "metadata": {},
   "outputs": [],
   "source": [
    "# Add a new column, matching the uid with the node_idx.\n",
    "edges = edges.join(uid2idx, on='uid')"
   ]
  },
  {
   "cell_type": "code",
   "execution_count": 45,
   "metadata": {},
   "outputs": [],
   "source": [
    "# Do the same with the parent_uid.\n",
    "edges = edges.join(uid2idx, on='parent_uid', rsuffix='_parent')"
   ]
  },
  {
   "cell_type": "code",
   "execution_count": 46,
   "metadata": {},
   "outputs": [],
   "source": [
    "# Drop the uids.\n",
    "edges_renumbered = edges.drop(columns=['uid','parent_uid'])"
   ]
  },
  {
   "cell_type": "markdown",
   "metadata": {},
   "source": [
    "The `edges_renumbered` table is a list of renumbered edges connecting each node to its parent."
   ]
  },
  {
   "cell_type": "code",
   "execution_count": 47,
   "metadata": {},
   "outputs": [
    {
     "data": {
      "text/html": [
       "<div>\n",
       "<style scoped>\n",
       "    .dataframe tbody tr th:only-of-type {\n",
       "        vertical-align: middle;\n",
       "    }\n",
       "\n",
       "    .dataframe tbody tr th {\n",
       "        vertical-align: top;\n",
       "    }\n",
       "\n",
       "    .dataframe thead th {\n",
       "        text-align: right;\n",
       "    }\n",
       "</style>\n",
       "<table border=\"1\" class=\"dataframe\">\n",
       "  <thead>\n",
       "    <tr style=\"text-align: right;\">\n",
       "      <th></th>\n",
       "      <th>node_idx</th>\n",
       "      <th>node_idx_parent</th>\n",
       "    </tr>\n",
       "  </thead>\n",
       "  <tbody>\n",
       "    <tr>\n",
       "      <td>0</td>\n",
       "      <td>0</td>\n",
       "      <td>NaN</td>\n",
       "    </tr>\n",
       "    <tr>\n",
       "      <td>1</td>\n",
       "      <td>1</td>\n",
       "      <td>0.0</td>\n",
       "    </tr>\n",
       "    <tr>\n",
       "      <td>2</td>\n",
       "      <td>2</td>\n",
       "      <td>1.0</td>\n",
       "    </tr>\n",
       "    <tr>\n",
       "      <td>3</td>\n",
       "      <td>3</td>\n",
       "      <td>2.0</td>\n",
       "    </tr>\n",
       "    <tr>\n",
       "      <td>4</td>\n",
       "      <td>4</td>\n",
       "      <td>2.0</td>\n",
       "    </tr>\n",
       "  </tbody>\n",
       "</table>\n",
       "</div>"
      ],
      "text/plain": [
       "   node_idx  node_idx_parent\n",
       "0         0              NaN\n",
       "1         1              0.0\n",
       "2         2              1.0\n",
       "3         3              2.0\n",
       "4         4              2.0"
      ]
     },
     "execution_count": 47,
     "metadata": {},
     "output_type": "execute_result"
    }
   ],
   "source": [
    "edges_renumbered.head()"
   ]
  },
  {
   "cell_type": "markdown",
   "metadata": {},
   "source": [
    "## Building the (weighted) adjacency matrix\n",
    "\n",
    "We will use numpy to build this matrix. Note that we don't have edge weights here, so our graph is going to be unweighted."
   ]
  },
  {
   "cell_type": "code",
   "execution_count": 48,
   "metadata": {},
   "outputs": [],
   "source": [
    "n_nodes = len(nodes)\n",
    "adjacency = np.zeros((n_nodes, n_nodes), dtype=int)"
   ]
  },
  {
   "cell_type": "code",
   "execution_count": 49,
   "metadata": {},
   "outputs": [],
   "source": [
    "for idx, row in edges.iterrows():\n",
    "    if np.isnan(row.node_idx_parent):\n",
    "        continue\n",
    "    i, j = int(row.node_idx), int(row.node_idx_parent)\n",
    "    adjacency[i, j] = 1  # weight\n",
    "    adjacency[j, i] = 1  # weight to obtain an undirected network"
   ]
  },
  {
   "cell_type": "code",
   "execution_count": 50,
   "metadata": {},
   "outputs": [
    {
     "data": {
      "text/plain": [
       "array([[0, 1, 0, 0, 0, 0, 0, 0, 0, 0, 0, 0, 0, 0, 0],\n",
       "       [1, 0, 1, 0, 0, 0, 0, 0, 0, 0, 0, 0, 0, 0, 0],\n",
       "       [0, 1, 0, 1, 1, 0, 0, 0, 0, 0, 0, 0, 0, 0, 0],\n",
       "       [0, 0, 1, 0, 0, 0, 0, 0, 0, 0, 0, 0, 0, 0, 0],\n",
       "       [0, 0, 1, 0, 0, 1, 1, 0, 0, 0, 0, 0, 0, 0, 0],\n",
       "       [0, 0, 0, 0, 1, 0, 0, 0, 0, 0, 0, 0, 0, 0, 0],\n",
       "       [0, 0, 0, 0, 1, 0, 0, 1, 1, 1, 1, 1, 1, 0, 0],\n",
       "       [0, 0, 0, 0, 0, 0, 1, 0, 0, 0, 0, 0, 0, 0, 0],\n",
       "       [0, 0, 0, 0, 0, 0, 1, 0, 0, 0, 0, 0, 0, 0, 0],\n",
       "       [0, 0, 0, 0, 0, 0, 1, 0, 0, 0, 0, 0, 0, 0, 0],\n",
       "       [0, 0, 0, 0, 0, 0, 1, 0, 0, 0, 0, 0, 0, 0, 0],\n",
       "       [0, 0, 0, 0, 0, 0, 1, 0, 0, 0, 0, 0, 0, 0, 0],\n",
       "       [0, 0, 0, 0, 0, 0, 1, 0, 0, 0, 0, 0, 0, 1, 0],\n",
       "       [0, 0, 0, 0, 0, 0, 0, 0, 0, 0, 0, 0, 1, 0, 1],\n",
       "       [0, 0, 0, 0, 0, 0, 0, 0, 0, 0, 0, 0, 0, 1, 0]])"
      ]
     },
     "execution_count": 50,
     "metadata": {},
     "output_type": "execute_result"
    }
   ],
   "source": [
    "adjacency[:15, :15]"
   ]
  },
  {
   "cell_type": "markdown",
   "metadata": {},
   "source": [
    "Congratulations, you have built the adjacency matrix!"
   ]
  },
  {
   "cell_type": "markdown",
   "metadata": {},
   "source": [
    "## The graph"
   ]
  },
  {
   "cell_type": "code",
   "execution_count": 51,
   "metadata": {},
   "outputs": [],
   "source": [
    "# A simple command to create the graph from the adjacency matrix.\n",
    "graph = nx.from_numpy_array(adjacency)"
   ]
  },
  {
   "cell_type": "markdown",
   "metadata": {},
   "source": [
    "In addition, let us add some attributes to the nodes:"
   ]
  },
  {
   "cell_type": "code",
   "execution_count": 52,
   "metadata": {},
   "outputs": [],
   "source": [
    "node_props = nodes.to_dict()"
   ]
  },
  {
   "cell_type": "code",
   "execution_count": 53,
   "metadata": {},
   "outputs": [],
   "source": [
    "for key in node_props:\n",
    "    # print(key, node_props[key])\n",
    "    nx.set_node_attributes(graph, node_props[key], key)"
   ]
  },
  {
   "cell_type": "markdown",
   "metadata": {},
   "source": [
    "Let us check if it is correctly recorded:"
   ]
  },
  {
   "cell_type": "code",
   "execution_count": 54,
   "metadata": {},
   "outputs": [
    {
     "data": {
      "text/plain": [
       "{'node_idx': 1, 'uid': 93302, 'name': 'cellular organisms', 'rank': 'no rank'}"
      ]
     },
     "execution_count": 54,
     "metadata": {},
     "output_type": "execute_result"
    }
   ],
   "source": [
    "graph.node[1]"
   ]
  },
  {
   "cell_type": "markdown",
   "metadata": {},
   "source": [
    "**Exercise 1:**\n",
    "Build the graph directly from the `edges` table (without using the adjacency matrix)."
   ]
  },
  {
   "cell_type": "code",
   "execution_count": 70,
   "metadata": {},
   "outputs": [
    {
     "name": "stderr",
     "output_type": "stream",
     "text": [
      "/home/yhou/anaconda3/envs/ntds_2019/lib/python3.7/site-packages/networkx/drawing/nx_pylab.py:579: MatplotlibDeprecationWarning: \n",
      "The iterable function was deprecated in Matplotlib 3.1 and will be removed in 3.3. Use np.iterable instead.\n",
      "  if not cb.iterable(width):\n"
     ]
    }
   ],
   "source": [
    "G = nx.from_pandas_edgelist(edges, 'node_idx', 'node_idx_parent', ['uid', 'parent_uid'])"
   ]
  },
  {
   "cell_type": "code",
   "execution_count": 74,
   "metadata": {},
   "outputs": [
    {
     "data": {
      "image/png": "[encoded data removed]",
      "text/plain": [
       "<Figure size 432x288 with 1 Axes>"
      ]
     },
     "metadata": {},
     "output_type": "display_data"
    }
   ],
   "source": [
    "nx.draw(graph)"
   ]
  },
  {
   "cell_type": "code",
   "execution_count": 75,
   "metadata": {},
   "outputs": [
    {
     "data": {
      "image/png": "[encoded data removed]",
      "text/plain": [
       "<Figure size 432x288 with 1 Axes>"
      ]
     },
     "metadata": {},
     "output_type": "display_data"
    }
   ],
   "source": [
    "nx.draw(G)"
   ]
  },
  {
   "cell_type": "markdown",
   "metadata": {},
   "source": [
    "**Exercise 2:**\n",
    "Build the graph from the initial `tree_of_life` table by directly iterating over the rows of this table (without building the adjacency matrix)."
   ]
  },
  {
   "cell_type": "code",
   "execution_count": 76,
   "metadata": {},
   "outputs": [
    {
     "data": {
      "text/html": [
       "<div>\n",
       "<style scoped>\n",
       "    .dataframe tbody tr th:only-of-type {\n",
       "        vertical-align: middle;\n",
       "    }\n",
       "\n",
       "    .dataframe tbody tr th {\n",
       "        vertical-align: top;\n",
       "    }\n",
       "\n",
       "    .dataframe thead th {\n",
       "        text-align: right;\n",
       "    }\n",
       "</style>\n",
       "<table border=\"1\" class=\"dataframe\">\n",
       "  <thead>\n",
       "    <tr style=\"text-align: right;\">\n",
       "      <th></th>\n",
       "      <th>uid</th>\n",
       "      <th>parent_uid</th>\n",
       "      <th>name</th>\n",
       "      <th>rank</th>\n",
       "    </tr>\n",
       "  </thead>\n",
       "  <tbody>\n",
       "    <tr>\n",
       "      <td>0</td>\n",
       "      <td>805080</td>\n",
       "      <td>NaN</td>\n",
       "      <td>life</td>\n",
       "      <td>no rank</td>\n",
       "    </tr>\n",
       "    <tr>\n",
       "      <td>1</td>\n",
       "      <td>93302</td>\n",
       "      <td>805080.0</td>\n",
       "      <td>cellular organisms</td>\n",
       "      <td>no rank</td>\n",
       "    </tr>\n",
       "    <tr>\n",
       "      <td>2</td>\n",
       "      <td>996421</td>\n",
       "      <td>93302.0</td>\n",
       "      <td>Archaea</td>\n",
       "      <td>domain</td>\n",
       "    </tr>\n",
       "    <tr>\n",
       "      <td>3</td>\n",
       "      <td>5246114</td>\n",
       "      <td>996421.0</td>\n",
       "      <td>Marine Hydrothermal Vent Group 1(MHVG-1)</td>\n",
       "      <td>no rank - terminal</td>\n",
       "    </tr>\n",
       "    <tr>\n",
       "      <td>4</td>\n",
       "      <td>102415</td>\n",
       "      <td>996421.0</td>\n",
       "      <td>Thaumarchaeota</td>\n",
       "      <td>phylum</td>\n",
       "    </tr>\n",
       "    <tr>\n",
       "      <td>...</td>\n",
       "      <td>...</td>\n",
       "      <td>...</td>\n",
       "      <td>...</td>\n",
       "      <td>...</td>\n",
       "    </tr>\n",
       "    <tr>\n",
       "      <td>994</td>\n",
       "      <td>5571591</td>\n",
       "      <td>102415.0</td>\n",
       "      <td>uncultured marine thaumarchaeote KM3_175_A05</td>\n",
       "      <td>species</td>\n",
       "    </tr>\n",
       "    <tr>\n",
       "      <td>995</td>\n",
       "      <td>5571756</td>\n",
       "      <td>102415.0</td>\n",
       "      <td>uncultured marine thaumarchaeote KM3_46_E07</td>\n",
       "      <td>species</td>\n",
       "    </tr>\n",
       "    <tr>\n",
       "      <td>996</td>\n",
       "      <td>5571888</td>\n",
       "      <td>102415.0</td>\n",
       "      <td>uncultured marine thaumarchaeote KM3_02_A10</td>\n",
       "      <td>species</td>\n",
       "    </tr>\n",
       "    <tr>\n",
       "      <td>997</td>\n",
       "      <td>5205131</td>\n",
       "      <td>102415.0</td>\n",
       "      <td>thaumarchaeote enrichment culture clone Ec.FBa...</td>\n",
       "      <td>species</td>\n",
       "    </tr>\n",
       "    <tr>\n",
       "      <td>998</td>\n",
       "      <td>5572032</td>\n",
       "      <td>102415.0</td>\n",
       "      <td>uncultured marine thaumarchaeote KM3_53_B02</td>\n",
       "      <td>species</td>\n",
       "    </tr>\n",
       "  </tbody>\n",
       "</table>\n",
       "<p>999 rows × 4 columns</p>\n",
       "</div>"
      ],
      "text/plain": [
       "         uid  parent_uid                                               name  \\\n",
       "0     805080         NaN                                               life   \n",
       "1      93302    805080.0                                 cellular organisms   \n",
       "2     996421     93302.0                                            Archaea   \n",
       "3    5246114    996421.0           Marine Hydrothermal Vent Group 1(MHVG-1)   \n",
       "4     102415    996421.0                                     Thaumarchaeota   \n",
       "..       ...         ...                                                ...   \n",
       "994  5571591    102415.0       uncultured marine thaumarchaeote KM3_175_A05   \n",
       "995  5571756    102415.0        uncultured marine thaumarchaeote KM3_46_E07   \n",
       "996  5571888    102415.0        uncultured marine thaumarchaeote KM3_02_A10   \n",
       "997  5205131    102415.0  thaumarchaeote enrichment culture clone Ec.FBa...   \n",
       "998  5572032    102415.0        uncultured marine thaumarchaeote KM3_53_B02   \n",
       "\n",
       "                   rank  \n",
       "0               no rank  \n",
       "1               no rank  \n",
       "2                domain  \n",
       "3    no rank - terminal  \n",
       "4                phylum  \n",
       "..                  ...  \n",
       "994             species  \n",
       "995             species  \n",
       "996             species  \n",
       "997             species  \n",
       "998             species  \n",
       "\n",
       "[999 rows x 4 columns]"
      ]
     },
     "execution_count": 76,
     "metadata": {},
     "output_type": "execute_result"
    }
   ],
   "source": [
    "# Your code here.\n",
    "tree_of_life"
   ]
  },
  {
   "cell_type": "code",
   "execution_count": null,
   "metadata": {},
   "outputs": [],
   "source": []
  },
  {
   "cell_type": "markdown",
   "metadata": {},
   "source": [
    "**Exercise 3:**\n",
    "Get the adjacency matrix with `nx.adjacency_matrix(graph)` and compare it with what we obtained previously."
   ]
  },
  {
   "cell_type": "code",
   "execution_count": null,
   "metadata": {},
   "outputs": [],
   "source": [
    "# Your code here."
   ]
  },
  {
   "cell_type": "markdown",
   "metadata": {},
   "source": [
    "## Graph visualization\n",
    "\n",
    "To conclude, let us visualize the graph. We will use the python module networkx."
   ]
  },
  {
   "cell_type": "markdown",
   "metadata": {},
   "source": [
    "The following line is a [magic command](https://ipython.readthedocs.io/en/stable/interactive/magics.html). It enables plotting inside the notebook."
   ]
  },
  {
   "cell_type": "code",
   "execution_count": null,
   "metadata": {},
   "outputs": [],
   "source": [
    "%matplotlib inline"
   ]
  },
  {
   "cell_type": "markdown",
   "metadata": {},
   "source": [
    "You may also try `%matplotlib notebook` for a zoomable version of plots."
   ]
  },
  {
   "cell_type": "markdown",
   "metadata": {},
   "source": [
    "Draw the graph with two different [layout algorithms](https://en.wikipedia.org/wiki/Graph_drawing#Layout_methods)."
   ]
  },
  {
   "cell_type": "code",
   "execution_count": null,
   "metadata": {},
   "outputs": [],
   "source": [
    "nx.draw_spectral(graph)"
   ]
  },
  {
   "cell_type": "code",
   "execution_count": null,
   "metadata": {},
   "outputs": [],
   "source": [
    "nx.draw_spring(graph)"
   ]
  },
  {
   "cell_type": "markdown",
   "metadata": {},
   "source": [
    "Save the graph to disk in the `gexf` format, readable by gephi and other tools that manipulate graphs. You may now explore the graph using [gephi](https://gephi.org/) and compare the visualizations."
   ]
  },
  {
   "cell_type": "code",
   "execution_count": null,
   "metadata": {},
   "outputs": [],
   "source": [
    "nx.write_gexf(graph, 'tree_of_life.gexf')"
   ]
  }
 ],
 "metadata": {
  "kernelspec": {
   "display_name": "Python 3",
   "language": "python",
   "name": "python3"
  },
  "language_info": {
   "codemirror_mode": {
    "name": "ipython",
    "version": 3
   },
   "file_extension": ".py",
   "mimetype": "text/x-python",
   "name": "python",
   "nbconvert_exporter": "python",
   "pygments_lexer": "ipython3",
   "version": "3.7.3"
  }
 },
 "nbformat": 4,
 "nbformat_minor": 4
}
